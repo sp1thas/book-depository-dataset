{
 "cells": [
  {
   "metadata": {
    "pycharm": {
     "is_executing": false
    },
    "trusted": true
   },
   "cell_type": "code",
   "source": [
    "import pandas as pd\n",
    "import os\n",
    "import json"
   ],
   "execution_count": 27,
   "outputs": []
  },
  {
   "metadata": {
    "pycharm": {
     "name": "#%%\n",
     "is_executing": false
    },
    "trusted": true
   },
   "cell_type": "code",
   "source": [
    "if os.path.exists('../input/'):\n",
    "    path_prefix = '../input/{}.csv'\n",
    "else:\n",
    "    path_prefix = '../export/{}.csv'\n",
    "\n",
    "df, df_f, df_a, df_c = [\n",
    "    pd.read_csv(path_prefix.format(_)) for _ in ('dataset', 'formats', 'authors', 'categories')\n",
    "]"
   ],
   "execution_count": 28,
   "outputs": []
  },
  {
   "metadata": {
    "pycharm": {
     "name": "#%%\n",
     "is_executing": false
    },
    "trusted": true
   },
   "cell_type": "code",
   "source": [
    "df.head()"
   ],
   "execution_count": 29,
   "outputs": [
    {
     "data": {
      "text/plain": "  authors bestsellers-rank                                         categories  \\\n0     [1]            57858                  [220, 233, 237, 2644, 2679, 2689]   \n1  [2, 3]           114465                                        [235, 3386]   \n2     [4]           61,471                          [241, 245, 247, 249, 378]   \n3     [5]        1,347,994  [245, 253, 263, 273, 274, 276, 279, 280, 281, ...   \n4     [6]            58154                                 [1938, 1941, 1995]   \n\n                                         description  dimension_x  \\\n0  They were American and British air force offic...        142.0   \n1  John Moran and Carl Williams were the two bigg...        127.0   \n2  Plain English is the art of writing clearly, c...        136.0   \n3  When travelling, do you want to journey off th...        136.0   \n4  No matter what your actual job title, you are-...        179.0   \n\n   dimension_y  dimension_z  dimensions     edition    edition-statement  ...  \\\n0        211.0         20.0         NaN         NaN              Reissue  ...   \n1        203.2         25.4         NaN         NaN                  NaN  ...   \n2        195.0         16.0         NaN     Revised  4th Revised edition  ...   \n3        190.0         33.0         NaN  Unabridged   Unabridged edition  ...   \n4        229.0         18.0         NaN         NaN                  NaN  ...   \n\n  format             id               illustrations-note  \\\n0      1  9780393325799          16 pages of photographs   \n1      1  9781844547371                              NaN   \n2      1  9780199669172  Illustrations (black and white)   \n3      2  9781444185492                              NaN   \n4      1  9780321934079                              NaN   \n\n                 imprint index-date      isbn10        isbn13    lang  \\\n0                    NaN        NaN   393325792  9.780393e+12  [\"en\"]   \n1                    NaN        NaN  184454737X  9.781845e+12  [\"en\"]   \n2                    NaN        NaN   199669171  9.780200e+12  [\"en\"]   \n3         TEACH YOURSELF        NaN  1444185497  9.781444e+12  [\"en\"]   \n4  New Riders Publishing        NaN   321934075  9.780322e+12  [\"en\"]   \n\n  publication-date  weight  \n0       2004-08-17  243.00  \n1       2009-03-13  285.76  \n2       2013-09-15  338.00  \n3       2014-12-03  156.00  \n4       2016-02-28  732.00  \n\n[5 rows x 21 columns]",
      "text/html": "<div>\n<style scoped>\n    .dataframe tbody tr th:only-of-type {\n        vertical-align: middle;\n    }\n\n    .dataframe tbody tr th {\n        vertical-align: top;\n    }\n\n    .dataframe thead th {\n        text-align: right;\n    }\n</style>\n<table border=\"1\" class=\"dataframe\">\n  <thead>\n    <tr style=\"text-align: right;\">\n      <th></th>\n      <th>authors</th>\n      <th>bestsellers-rank</th>\n      <th>categories</th>\n      <th>description</th>\n      <th>dimension_x</th>\n      <th>dimension_y</th>\n      <th>dimension_z</th>\n      <th>dimensions</th>\n      <th>edition</th>\n      <th>edition-statement</th>\n      <th>...</th>\n      <th>format</th>\n      <th>id</th>\n      <th>illustrations-note</th>\n      <th>imprint</th>\n      <th>index-date</th>\n      <th>isbn10</th>\n      <th>isbn13</th>\n      <th>lang</th>\n      <th>publication-date</th>\n      <th>weight</th>\n    </tr>\n  </thead>\n  <tbody>\n    <tr>\n      <th>0</th>\n      <td>[1]</td>\n      <td>57858</td>\n      <td>[220, 233, 237, 2644, 2679, 2689]</td>\n      <td>They were American and British air force offic...</td>\n      <td>142.0</td>\n      <td>211.0</td>\n      <td>20.0</td>\n      <td>NaN</td>\n      <td>NaN</td>\n      <td>Reissue</td>\n      <td>...</td>\n      <td>1</td>\n      <td>9780393325799</td>\n      <td>16 pages of photographs</td>\n      <td>NaN</td>\n      <td>NaN</td>\n      <td>393325792</td>\n      <td>9.780393e+12</td>\n      <td>[\"en\"]</td>\n      <td>2004-08-17</td>\n      <td>243.00</td>\n    </tr>\n    <tr>\n      <th>1</th>\n      <td>[2, 3]</td>\n      <td>114465</td>\n      <td>[235, 3386]</td>\n      <td>John Moran and Carl Williams were the two bigg...</td>\n      <td>127.0</td>\n      <td>203.2</td>\n      <td>25.4</td>\n      <td>NaN</td>\n      <td>NaN</td>\n      <td>NaN</td>\n      <td>...</td>\n      <td>1</td>\n      <td>9781844547371</td>\n      <td>NaN</td>\n      <td>NaN</td>\n      <td>NaN</td>\n      <td>184454737X</td>\n      <td>9.781845e+12</td>\n      <td>[\"en\"]</td>\n      <td>2009-03-13</td>\n      <td>285.76</td>\n    </tr>\n    <tr>\n      <th>2</th>\n      <td>[4]</td>\n      <td>61,471</td>\n      <td>[241, 245, 247, 249, 378]</td>\n      <td>Plain English is the art of writing clearly, c...</td>\n      <td>136.0</td>\n      <td>195.0</td>\n      <td>16.0</td>\n      <td>NaN</td>\n      <td>Revised</td>\n      <td>4th Revised edition</td>\n      <td>...</td>\n      <td>1</td>\n      <td>9780199669172</td>\n      <td>Illustrations (black and white)</td>\n      <td>NaN</td>\n      <td>NaN</td>\n      <td>199669171</td>\n      <td>9.780200e+12</td>\n      <td>[\"en\"]</td>\n      <td>2013-09-15</td>\n      <td>338.00</td>\n    </tr>\n    <tr>\n      <th>3</th>\n      <td>[5]</td>\n      <td>1,347,994</td>\n      <td>[245, 253, 263, 273, 274, 276, 279, 280, 281, ...</td>\n      <td>When travelling, do you want to journey off th...</td>\n      <td>136.0</td>\n      <td>190.0</td>\n      <td>33.0</td>\n      <td>NaN</td>\n      <td>Unabridged</td>\n      <td>Unabridged edition</td>\n      <td>...</td>\n      <td>2</td>\n      <td>9781444185492</td>\n      <td>NaN</td>\n      <td>TEACH YOURSELF</td>\n      <td>NaN</td>\n      <td>1444185497</td>\n      <td>9.781444e+12</td>\n      <td>[\"en\"]</td>\n      <td>2014-12-03</td>\n      <td>156.00</td>\n    </tr>\n    <tr>\n      <th>4</th>\n      <td>[6]</td>\n      <td>58154</td>\n      <td>[1938, 1941, 1995]</td>\n      <td>No matter what your actual job title, you are-...</td>\n      <td>179.0</td>\n      <td>229.0</td>\n      <td>18.0</td>\n      <td>NaN</td>\n      <td>NaN</td>\n      <td>NaN</td>\n      <td>...</td>\n      <td>1</td>\n      <td>9780321934079</td>\n      <td>NaN</td>\n      <td>New Riders Publishing</td>\n      <td>NaN</td>\n      <td>321934075</td>\n      <td>9.780322e+12</td>\n      <td>[\"en\"]</td>\n      <td>2016-02-28</td>\n      <td>732.00</td>\n    </tr>\n  </tbody>\n</table>\n<p>5 rows × 21 columns</p>\n</div>"
     },
     "metadata": {},
     "output_type": "execute_result",
     "execution_count": 29
    }
   ]
  },
  {
   "metadata": {
    "pycharm": {
     "name": "#%%\n",
     "is_executing": false
    },
    "trusted": true
   },
   "cell_type": "code",
   "source": [
    "df_a.head()"
   ],
   "execution_count": 30,
   "outputs": [
    {
     "data": {
      "text/plain": "   author_id     author_name\n0          1  Paul Brickhill\n1          2  John Silvester\n2          3     Andrew Rule\n3          4    Martin Cutts\n4          5  Sue Tyson-Ward",
      "text/html": "<div>\n<style scoped>\n    .dataframe tbody tr th:only-of-type {\n        vertical-align: middle;\n    }\n\n    .dataframe tbody tr th {\n        vertical-align: top;\n    }\n\n    .dataframe thead th {\n        text-align: right;\n    }\n</style>\n<table border=\"1\" class=\"dataframe\">\n  <thead>\n    <tr style=\"text-align: right;\">\n      <th></th>\n      <th>author_id</th>\n      <th>author_name</th>\n    </tr>\n  </thead>\n  <tbody>\n    <tr>\n      <th>0</th>\n      <td>1</td>\n      <td>Paul Brickhill</td>\n    </tr>\n    <tr>\n      <th>1</th>\n      <td>2</td>\n      <td>John Silvester</td>\n    </tr>\n    <tr>\n      <th>2</th>\n      <td>3</td>\n      <td>Andrew Rule</td>\n    </tr>\n    <tr>\n      <th>3</th>\n      <td>4</td>\n      <td>Martin Cutts</td>\n    </tr>\n    <tr>\n      <th>4</th>\n      <td>5</td>\n      <td>Sue Tyson-Ward</td>\n    </tr>\n  </tbody>\n</table>\n</div>"
     },
     "metadata": {},
     "output_type": "execute_result",
     "execution_count": 30
    }
   ]
  },
  {
   "metadata": {
    "pycharm": {
     "name": "#%%\n",
     "is_executing": false
    },
    "trusted": true
   },
   "cell_type": "code",
   "source": [
    "df_f.head()"
   ],
   "execution_count": 31,
   "outputs": [
    {
     "data": {
      "text/plain": "   format_id format_name\n0          1   Paperback\n1          2          CD\n2          3    Hardback\n3          4       Mixed\n4          5         Pre",
      "text/html": "<div>\n<style scoped>\n    .dataframe tbody tr th:only-of-type {\n        vertical-align: middle;\n    }\n\n    .dataframe tbody tr th {\n        vertical-align: top;\n    }\n\n    .dataframe thead th {\n        text-align: right;\n    }\n</style>\n<table border=\"1\" class=\"dataframe\">\n  <thead>\n    <tr style=\"text-align: right;\">\n      <th></th>\n      <th>format_id</th>\n      <th>format_name</th>\n    </tr>\n  </thead>\n  <tbody>\n    <tr>\n      <th>0</th>\n      <td>1</td>\n      <td>Paperback</td>\n    </tr>\n    <tr>\n      <th>1</th>\n      <td>2</td>\n      <td>CD</td>\n    </tr>\n    <tr>\n      <th>2</th>\n      <td>3</td>\n      <td>Hardback</td>\n    </tr>\n    <tr>\n      <th>3</th>\n      <td>4</td>\n      <td>Mixed</td>\n    </tr>\n    <tr>\n      <th>4</th>\n      <td>5</td>\n      <td>Pre</td>\n    </tr>\n  </tbody>\n</table>\n</div>"
     },
     "metadata": {},
     "output_type": "execute_result",
     "execution_count": 31
    }
   ]
  },
  {
   "metadata": {
    "pycharm": {
     "name": "#%%\n",
     "is_executing": false
    },
    "trusted": true
   },
   "cell_type": "code",
   "source": [
    "df_c.head()"
   ],
   "execution_count": 32,
   "outputs": [
    {
     "data": {
      "text/plain": "   category_id                                category_name\n0          220  Biography: Historical, Political & Military\n1          233                                      Memoirs\n2          237                   True War  & Combat Stories\n3         2644                             European History\n4         2679                             Military History",
      "text/html": "<div>\n<style scoped>\n    .dataframe tbody tr th:only-of-type {\n        vertical-align: middle;\n    }\n\n    .dataframe tbody tr th {\n        vertical-align: top;\n    }\n\n    .dataframe thead th {\n        text-align: right;\n    }\n</style>\n<table border=\"1\" class=\"dataframe\">\n  <thead>\n    <tr style=\"text-align: right;\">\n      <th></th>\n      <th>category_id</th>\n      <th>category_name</th>\n    </tr>\n  </thead>\n  <tbody>\n    <tr>\n      <th>0</th>\n      <td>220</td>\n      <td>Biography: Historical, Political &amp; Military</td>\n    </tr>\n    <tr>\n      <th>1</th>\n      <td>233</td>\n      <td>Memoirs</td>\n    </tr>\n    <tr>\n      <th>2</th>\n      <td>237</td>\n      <td>True War  &amp; Combat Stories</td>\n    </tr>\n    <tr>\n      <th>3</th>\n      <td>2644</td>\n      <td>European History</td>\n    </tr>\n    <tr>\n      <th>4</th>\n      <td>2679</td>\n      <td>Military History</td>\n    </tr>\n  </tbody>\n</table>\n</div>"
     },
     "metadata": {},
     "output_type": "execute_result",
     "execution_count": 32
    }
   ]
  },
  {
   "metadata": {
    "pycharm": {
     "name": "#%%\n",
     "is_executing": false
    },
    "trusted": true
   },
   "cell_type": "code",
   "source": [
    "def parse_list_fields(x):\n",
    "    if isinstance(x, str):\n",
    "        return json.loads(x)\n",
    "    elif isinstance(x, list):\n",
    "        return x\n",
    "    else:\n",
    "        return []"
   ],
   "execution_count": 33,
   "outputs": []
  },
  {
   "metadata": {
    "trusted": true,
    "pycharm": {
     "is_executing": false
    }
   },
   "cell_type": "code",
   "source": [
    "df['categories'] = df['categories'].apply(parse_list_fields)\n",
    "df['authors'] = df['authors'].apply(parse_list_fields)"
   ],
   "execution_count": 36,
   "outputs": []
  },
  {
   "metadata": {
    "trusted": true
   },
   "cell_type": "code",
   "source": [],
   "execution_count": null,
   "outputs": []
  }
 ],
 "metadata": {
  "kernelspec": {
   "name": "python3",
   "language": "python",
   "display_name": "Python 3"
  },
  "language_info": {
   "codemirror_mode": {
    "name": "ipython",
    "version": 2
   },
   "file_extension": ".py",
   "mimetype": "text/x-python",
   "name": "python",
   "nbconvert_exporter": "python",
   "pygments_lexer": "ipython2",
   "version": "2.7.6"
  },
  "pycharm": {
   "stem_cell": {
    "cell_type": "raw",
    "source": [],
    "metadata": {
     "collapsed": false
    }
   }
  }
 },
 "nbformat": 4,
 "nbformat_minor": 1
}